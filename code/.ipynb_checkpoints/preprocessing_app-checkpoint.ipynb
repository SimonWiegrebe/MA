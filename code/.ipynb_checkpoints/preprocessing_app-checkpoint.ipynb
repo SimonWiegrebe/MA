{
 "cells": [
  {
   "cell_type": "code",
   "execution_count": 1,
   "metadata": {},
   "outputs": [],
   "source": [
    "import datetime\n",
    "import matplotlib\n",
    "import numpy as np\n",
    "import pandas as pd\n",
    "import pyreadr\n",
    "\n",
    "import os"
   ]
  },
  {
   "cell_type": "code",
   "execution_count": 2,
   "metadata": {},
   "outputs": [],
   "source": [
    "data = pyreadr.read_r('../../data/sequences_all_anon.Rds')[None]"
   ]
  },
  {
   "cell_type": "code",
   "execution_count": 3,
   "metadata": {},
   "outputs": [],
   "source": [
    "data.rename(columns={'datum':'date', 'value':'category', 'anon_apps.name':'app_name'}, inplace=True)\n",
    "data['timestamp'] = data['date'].apply(lambda x: x.timestamp())\n",
    "data.loc[data['app_name'].isnull(),'app_name'] = data['category'] # replace NaNs in app_name by corresponding category value\n",
    "data['sessionID'] = data['app_name'].shift(1).isin(['OFF_LOCKED','OFF_UNLOCKED']).cumsum() + 1 # sessionID is like sequence_number but does NOT start anew for each user"
   ]
  },
  {
   "cell_type": "code",
   "execution_count": 4,
   "metadata": {},
   "outputs": [],
   "source": [
    "app_mapping = dict([(y,x+1) for x,y in enumerate(sorted(set(data['app_name'])))])\n",
    "app_indexes = [app_mapping[x] for x in data['app_name']]\n",
    "# print(len(set(app_indexes)) == data['app_name'].nunique()) # check\n",
    "\n",
    "user_mapping = dict([(y,x+1) for x,y in enumerate(sorted(set(data['userId'])))])\n",
    "user_indexes = [user_mapping[x] for x in data['userId']]\n",
    "# print(len(set(user_indexes)) == data['userId'].nunique()) # check\n",
    "\n",
    "data['appID'] = app_indexes\n",
    "data.insert(0, 'userID', user_indexes)"
   ]
  },
  {
   "cell_type": "code",
   "execution_count": null,
   "metadata": {},
   "outputs": [],
   "source": [
    "# app_mapping_reverse = dict((v,k) for k,v in app_mapping.items())\n",
    "# user_mapping_reverse = dict((v,k) for k,v in user_mapping.items())\n",
    "# print(list(app_mapping.keys())[list(app_mapping.values()).index(1194)])\n",
    "# print(app_mapping_reverse[1194])"
   ]
  },
  {
   "cell_type": "code",
   "execution_count": 5,
   "metadata": {},
   "outputs": [],
   "source": [
    "path = '../../data/app-level/'"
   ]
  },
  {
   "cell_type": "code",
   "execution_count": 6,
   "metadata": {},
   "outputs": [],
   "source": [
    "data.to_csv(path + 'data_app_nodrop.csv', index=False)"
   ]
  },
  {
   "cell_type": "code",
   "execution_count": 7,
   "metadata": {},
   "outputs": [],
   "source": [
    "data.drop(['userId', 'date', 'activity', 'category', 'sequence_number', 'app_name'], axis=1, inplace=True)"
   ]
  },
  {
   "cell_type": "code",
   "execution_count": 8,
   "metadata": {},
   "outputs": [],
   "source": [
    "data.to_csv(path + 'data_app.csv', index=False)"
   ]
  }
 ],
 "metadata": {
  "kernelspec": {
   "display_name": "Python 3",
   "language": "python",
   "name": "python3"
  },
  "language_info": {
   "codemirror_mode": {
    "name": "ipython",
    "version": 3
   },
   "file_extension": ".py",
   "mimetype": "text/x-python",
   "name": "python",
   "nbconvert_exporter": "python",
   "pygments_lexer": "ipython3",
   "version": "3.6.8"
  }
 },
 "nbformat": 4,
 "nbformat_minor": 4
}
