{
 "cells": [
  {
   "cell_type": "code",
   "execution_count": 55,
   "id": "c45cef40",
   "metadata": {},
   "outputs": [],
   "source": [
    "# import packages\n",
    "import datetime\n",
    "import matplotlib\n",
    "import numpy as np\n",
    "import pandas as pd\n",
    "import os\n",
    "import shutil"
   ]
  },
  {
   "cell_type": "code",
   "execution_count": 56,
   "id": "0d1aaac4",
   "metadata": {},
   "outputs": [],
   "source": [
    "os.chdir('C:\\\\Users\\\\Simon\\\\Desktop\\\\MA\\\\session-rec')"
   ]
  },
  {
   "cell_type": "code",
   "execution_count": 122,
   "id": "7fc13708",
   "metadata": {},
   "outputs": [],
   "source": [
    "datatype = 'sequence-level'"
   ]
  },
  {
   "cell_type": "code",
   "execution_count": 123,
   "id": "9f0c1154",
   "metadata": {},
   "outputs": [],
   "source": [
    "folder_in = '../../multiple/'\n",
    "# folder_in = 'results/tuning/sequence-level/multiple_raw/'\n",
    "folder_out = 'results/tuning/' + str(datatype) + '/multiple_raw/'"
   ]
  },
  {
   "cell_type": "code",
   "execution_count": 185,
   "id": "b672eea6",
   "metadata": {},
   "outputs": [],
   "source": [
    "algo = 'hgru4rec'\n",
    "window = 1"
   ]
  },
  {
   "cell_type": "code",
   "execution_count": 186,
   "id": "607acbd4",
   "metadata": {},
   "outputs": [],
   "source": [
    "files_in = [folder_in + f for f in os.listdir(folder_in) \n",
    "         if f.startswith('test_single_' + str(algo) + '_config_') and f.endswith('_window_' + str(window) + '.csv')]"
   ]
  },
  {
   "cell_type": "code",
   "execution_count": 187,
   "id": "f9f1c002",
   "metadata": {},
   "outputs": [
    {
     "data": {
      "text/plain": [
       "99"
      ]
     },
     "execution_count": 187,
     "metadata": {},
     "output_type": "execute_result"
    }
   ],
   "source": [
    "len(files_in)"
   ]
  },
  {
   "cell_type": "code",
   "execution_count": 188,
   "id": "4fa7cc0f",
   "metadata": {},
   "outputs": [],
   "source": [
    "for f in files_in:\n",
    "    shutil.copy(f, folder_out)"
   ]
  }
 ],
 "metadata": {
  "kernelspec": {
   "display_name": "Python 3",
   "language": "python",
   "name": "python3"
  },
  "language_info": {
   "codemirror_mode": {
    "name": "ipython",
    "version": 3
   },
   "file_extension": ".py",
   "mimetype": "text/x-python",
   "name": "python",
   "nbconvert_exporter": "python",
   "pygments_lexer": "ipython3",
   "version": "3.6.8"
  }
 },
 "nbformat": 4,
 "nbformat_minor": 5
}
