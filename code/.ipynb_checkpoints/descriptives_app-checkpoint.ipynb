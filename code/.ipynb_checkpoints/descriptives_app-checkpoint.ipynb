{
 "cells": [
  {
   "cell_type": "code",
   "execution_count": 1,
   "id": "3c662f77",
   "metadata": {},
   "outputs": [],
   "source": [
    "import datetime\n",
    "import matplotlib\n",
    "import matplotlib.pyplot as plt\n",
    "import numpy as np\n",
    "import pandas as pd\n",
    "import pyreadr\n",
    "\n",
    "import os"
   ]
  },
  {
   "cell_type": "code",
   "execution_count": 5,
   "id": "16d9994a",
   "metadata": {},
   "outputs": [],
   "source": [
    "data_sa = pd.read_csv('../../data/app-level/data_app_nodrop.csv')"
   ]
  },
  {
   "cell_type": "code",
   "execution_count": 6,
   "id": "6b16f114",
   "metadata": {},
   "outputs": [],
   "source": [
    "min_item_support = 5\n",
    "min_session_length = 2\n",
    "min_user_sessions = 3\n",
    "drop_first = True"
   ]
  },
  {
   "cell_type": "code",
   "execution_count": 7,
   "id": "628255e5",
   "metadata": {},
   "outputs": [],
   "source": [
    "USER_KEY = 'userID'\n",
    "ITEM_KEY = 'appID'\n",
    "TIME_KEY = 'timestamp'\n",
    "SESSION_KEY = 'sessionID'"
   ]
  },
  {
   "cell_type": "code",
   "execution_count": 22,
   "id": "7ecc797c",
   "metadata": {},
   "outputs": [],
   "source": [
    "# def preprocess(df, min_item_support=5, min_session_length=2, min_user_sessions=3, drop_first = False):\n",
    "#     '''\n",
    "#     Preprocesses the dataframe by filtering out infrequent items, short sessions, and users with few sessions\n",
    "#     -----\n",
    "#         df: Pandas dataframe\n",
    "#             Must contain the following columns: USER_KEY; ITEM_KEY; TIME_KEY; SESSION_KEY\n",
    "#         drop_first: boolean\n",
    "#             whether the first item of each session should be dropped\n",
    "#         min_item_support: integer\n",
    "#             minimum number of occurrences of an item (app) across all users and sessions for an item to be included\n",
    "#         min_session_length: integer\n",
    "#             minimum length (number of items) of a session for a session to be included\n",
    "#         min_user_sessions: integer\n",
    "#             minimum number of sessions per user for a user to be included\n",
    "#     '''\n",
    "#     if drop_first:\n",
    "#         mask = df['appID'].shift(-1).isin([1389, 1390]) # 1389=\"OFF_LOCKED\", 1390=\"OFF_UNLOCKED\"\n",
    "#         df = df[~mask] # filter out the first item of each session, i.e., items PRECEDED by 1389 or 1390\n",
    "#     df = df.groupby(ITEM_KEY).filter(lambda x: len(x) >= min_item_support)\n",
    "#     if df.groupby(USER_KEY)[SESSION_KEY].size().min() < min_session_length:\n",
    "#         df = df.groupby([USER_KEY, SESSION_KEY]).filter(lambda x: len(x) >= min_session_length)\n",
    "#     if df.groupby(USER_KEY)[SESSION_KEY].max().min() < min_user_sessions:\n",
    "#         df = df.groupby(USER_KEY).filter(lambda x: x[SESSION_KEY].max() >= min_user_sessions)\n",
    "#     return df\n",
    "\n",
    "# data_sa = preprocess(data_sa, min_item_support=5, min_session_length=2, min_user_sessions=3, drop_first=False)"
   ]
  },
  {
   "cell_type": "code",
   "execution_count": 8,
   "id": "4a9049d8",
   "metadata": {},
   "outputs": [],
   "source": [
    "# statistics about time\n",
    "beginning_first_session = datetime.datetime.fromtimestamp(data_sa.timestamp.min()).isoformat()\n",
    "end_last_session = datetime.datetime.fromtimestamp(data_sa.timestamp.max()).isoformat()\n",
    "# print(beginning_first_session)\n",
    "# print(end_last_session)"
   ]
  },
  {
   "cell_type": "code",
   "execution_count": 9,
   "id": "a066c7cb",
   "metadata": {},
   "outputs": [
    {
     "data": {
      "text/plain": [
       "844296"
      ]
     },
     "execution_count": 9,
     "metadata": {},
     "output_type": "execute_result"
    }
   ],
   "source": [
    "data_sa.sessionID.nunique()"
   ]
  },
  {
   "cell_type": "code",
   "execution_count": 10,
   "id": "ed28da70",
   "metadata": {},
   "outputs": [],
   "source": [
    "num_users = data_sa.userID.nunique()\n",
    "num_events = len(data_sa.appID)\n",
    "num_sessions = data_sa.sessionID.nunique()\n",
    "num_apps = data_sa.appID.nunique()\n",
    "sessions_per_user = num_sessions/num_users\n",
    "session_lengths = data_sa.groupby('sessionID').sessionID.count()\n",
    "mean_eps = num_events/num_sessions\n",
    "q1_eps = np.quantile(session_lengths.values, 0.25)\n",
    "median_eps = np.quantile(session_lengths.values, 0.50)\n",
    "q3_eps = np.quantile(session_lengths.values, 0.75)\n",
    "# unique apps per session: TBD"
   ]
  },
  {
   "cell_type": "code",
   "execution_count": 11,
   "id": "d6087aee",
   "metadata": {},
   "outputs": [
    {
     "name": "stdout",
     "output_type": "stream",
     "text": [
      "number of events: 4314830\n",
      "number of sessions: 844296\n",
      "sessions per user: 2723.5354838709677\n",
      "mean number of events per session: 5.11\n",
      "1st quartile of events per session: 2.0\n",
      "median number of events per session: 4.0\n",
      "3rd quartile of events per session: 6.0\n"
     ]
    }
   ],
   "source": [
    "print('number of events: ' + str(num_events))\n",
    "print('number of sessions: ' + str(num_sessions))\n",
    "print('sessions per user: ' + str(sessions_per_user))\n",
    "print('mean number of events per session: ' + str(round(mean_eps, 2)))\n",
    "print('1st quartile of events per session: ' + str(round(q1_eps, 2)))\n",
    "print('median number of events per session: ' + str(round(median_eps, 2)))\n",
    "print('3rd quartile of events per session: ' + str(round(q3_eps, 2)))"
   ]
  },
  {
   "cell_type": "code",
   "execution_count": 15,
   "id": "05f05b5f",
   "metadata": {},
   "outputs": [
    {
     "data": {
      "text/plain": [
       "[(2, 0.6108769910078929),\n",
       " (3, 0.501379847825881),\n",
       " (4, 0.39137340458796444),\n",
       " (5, 0.30104134095151464),\n",
       " (6, 0.2073028890341776),\n",
       " (7, 0.1571617063210059),\n",
       " (8, 0.1189263007286544),\n",
       " (9, 0.0950910581123208),\n",
       " (10, 0.07649449955939623),\n",
       " (11, 0.06342680765987284),\n",
       " (12, 0.05291864464595355),\n",
       " (13, 0.04517728379620418),\n",
       " (14, 0.038807479841193135),\n",
       " (15, 0.03369315974492358),\n",
       " (16, 0.029499133005486226),\n",
       " (17, 0.02611643309929219),\n",
       " (18, 0.023206316268228205),\n",
       " (19, 0.020842216473843298),\n",
       " (20, 0.018761192757042553)]"
      ]
     },
     "execution_count": 15,
     "metadata": {},
     "output_type": "execute_result"
    }
   ],
   "source": [
    "# which percentage of sessions (RHS) contain >= than i (LHS) apps?\n",
    "[(i+1, sum(session_lengths>i+1)/num_sessions) for i in range(1,20)]"
   ]
  },
  {
   "cell_type": "code",
   "execution_count": 16,
   "id": "1e38712e",
   "metadata": {},
   "outputs": [
    {
     "data": {
      "text/plain": [
       "0.3891455129480656"
      ]
     },
     "execution_count": 16,
     "metadata": {},
     "output_type": "execute_result"
    }
   ],
   "source": [
    "328554/844296"
   ]
  },
  {
   "cell_type": "code",
   "execution_count": 60,
   "id": "8acc60da",
   "metadata": {},
   "outputs": [
    {
     "data": {
      "text/plain": [
       "[(2, 328554),\n",
       " (4, 92904),\n",
       " (3, 92484),\n",
       " (6, 79153),\n",
       " (5, 76279),\n",
       " (7, 42322),\n",
       " (8, 32286),\n",
       " (9, 20098),\n",
       " (10, 15701),\n",
       " (11, 11037),\n",
       " (12, 8858),\n",
       " (13, 6538),\n",
       " (14, 5362),\n",
       " (15, 4321),\n",
       " (16, 3526),\n",
       " (17, 2862),\n",
       " (18, 2448),\n",
       " (19, 2000),\n",
       " (20, 1757),\n",
       " (21, 1574),\n",
       " (22, 1328),\n",
       " (23, 1127),\n",
       " (24, 972),\n",
       " (25, 920),\n",
       " (26, 804),\n",
       " (27, 640),\n",
       " (28, 625),\n",
       " (29, 552),\n",
       " (30, 475),\n",
       " (31, 450),\n",
       " (32, 415),\n",
       " (33, 370),\n",
       " (34, 349),\n",
       " (35, 327),\n",
       " (36, 305),\n",
       " (38, 271),\n",
       " (37, 265),\n",
       " (39, 225),\n",
       " (40, 221),\n",
       " (42, 182),\n",
       " (41, 173),\n",
       " (43, 169),\n",
       " (44, 169),\n",
       " (46, 151),\n",
       " (45, 130),\n",
       " (48, 125),\n",
       " (50, 118),\n",
       " (52, 111),\n",
       " (47, 102),\n",
       " (49, 101),\n",
       " (56, 89),\n",
       " (51, 86),\n",
       " (55, 77),\n",
       " (53, 75),\n",
       " (54, 72),\n",
       " (57, 71),\n",
       " (59, 63),\n",
       " (58, 61),\n",
       " (61, 60),\n",
       " (62, 59),\n",
       " (63, 52),\n",
       " (60, 51),\n",
       " (65, 46),\n",
       " (68, 46),\n",
       " (64, 46),\n",
       " (66, 44),\n",
       " (71, 36),\n",
       " (75, 35),\n",
       " (77, 34),\n",
       " (67, 31),\n",
       " (69, 30),\n",
       " (73, 27),\n",
       " (78, 25),\n",
       " (81, 25),\n",
       " (74, 25),\n",
       " (79, 24),\n",
       " (70, 24),\n",
       " (83, 22),\n",
       " (76, 21),\n",
       " (72, 21),\n",
       " (86, 20),\n",
       " (89, 20),\n",
       " (82, 20),\n",
       " (80, 19),\n",
       " (88, 19),\n",
       " (93, 18),\n",
       " (98, 17),\n",
       " (94, 15),\n",
       " (90, 15),\n",
       " (84, 15),\n",
       " (104, 14),\n",
       " (85, 14),\n",
       " (87, 14),\n",
       " (110, 13),\n",
       " (95, 13),\n",
       " (106, 12),\n",
       " (109, 12),\n",
       " (91, 12),\n",
       " (97, 11),\n",
       " (108, 10),\n",
       " (99, 10),\n",
       " (101, 9),\n",
       " (114, 9),\n",
       " (102, 9),\n",
       " (147, 9),\n",
       " (92, 8),\n",
       " (118, 8),\n",
       " (105, 8),\n",
       " (107, 8),\n",
       " (96, 8),\n",
       " (125, 7),\n",
       " (124, 7),\n",
       " (119, 7),\n",
       " (126, 7),\n",
       " (132, 6),\n",
       " (111, 6),\n",
       " (113, 6),\n",
       " (137, 6),\n",
       " (127, 5),\n",
       " (139, 5),\n",
       " (131, 5),\n",
       " (121, 5),\n",
       " (112, 5),\n",
       " (103, 5),\n",
       " (135, 5),\n",
       " (116, 5),\n",
       " (138, 5),\n",
       " (120, 4),\n",
       " (117, 4),\n",
       " (130, 4),\n",
       " (100, 4),\n",
       " (149, 4),\n",
       " (168, 4),\n",
       " (192, 4),\n",
       " (151, 4),\n",
       " (128, 4),\n",
       " (169, 4),\n",
       " (166, 3),\n",
       " (133, 3),\n",
       " (182, 3),\n",
       " (148, 3),\n",
       " (144, 3),\n",
       " (309, 3),\n",
       " (252, 3),\n",
       " (180, 3),\n",
       " (123, 3),\n",
       " (191, 3),\n",
       " (122, 3),\n",
       " (165, 3),\n",
       " (115, 3),\n",
       " (214, 3),\n",
       " (164, 2),\n",
       " (203, 2),\n",
       " (238, 2),\n",
       " (143, 2),\n",
       " (183, 2),\n",
       " (202, 2),\n",
       " (273, 2),\n",
       " (134, 2),\n",
       " (222, 2),\n",
       " (375, 2),\n",
       " (150, 2),\n",
       " (170, 2),\n",
       " (212, 2),\n",
       " (156, 2),\n",
       " (184, 2),\n",
       " (218, 2),\n",
       " (154, 2),\n",
       " (142, 2),\n",
       " (295, 1),\n",
       " (377, 1),\n",
       " (402, 1),\n",
       " (247, 1),\n",
       " (257, 1),\n",
       " (160, 1),\n",
       " (185, 1),\n",
       " (178, 1),\n",
       " (146, 1),\n",
       " (221, 1),\n",
       " (181, 1),\n",
       " (188, 1),\n",
       " (215, 1),\n",
       " (270, 1),\n",
       " (588, 1),\n",
       " (283, 1),\n",
       " (236, 1),\n",
       " (322, 1),\n",
       " (245, 1),\n",
       " (264, 1),\n",
       " (171, 1),\n",
       " (494, 1),\n",
       " (258, 1),\n",
       " (198, 1),\n",
       " (227, 1),\n",
       " (347, 1),\n",
       " (265, 1),\n",
       " (479, 1),\n",
       " (241, 1),\n",
       " (759, 1),\n",
       " (275, 1),\n",
       " (235, 1),\n",
       " (129, 1),\n",
       " (487, 1),\n",
       " (622, 1),\n",
       " (187, 1),\n",
       " (279, 1),\n",
       " (153, 1),\n",
       " (269, 1),\n",
       " (511, 1),\n",
       " (581, 1),\n",
       " (175, 1),\n",
       " (140, 1),\n",
       " (253, 1),\n",
       " (145, 1),\n",
       " (173, 1),\n",
       " (237, 1),\n",
       " (186, 1),\n",
       " (223, 1),\n",
       " (294, 1),\n",
       " (201, 1),\n",
       " (361, 1),\n",
       " (234, 1),\n",
       " (177, 1),\n",
       " (411, 1),\n",
       " (4160, 1),\n",
       " (1001, 1),\n",
       " (463, 1),\n",
       " (213, 1),\n",
       " (176, 1),\n",
       " (159, 1),\n",
       " (274, 1),\n",
       " (162, 1),\n",
       " (225, 1),\n",
       " (136, 1),\n",
       " (242, 1),\n",
       " (199, 1),\n",
       " (163, 1),\n",
       " (313, 1),\n",
       " (383, 1),\n",
       " (229, 1),\n",
       " (200, 1),\n",
       " (157, 1),\n",
       " (161, 1),\n",
       " (357, 1),\n",
       " (216, 1),\n",
       " (420, 1),\n",
       " (197, 1)]"
      ]
     },
     "execution_count": 60,
     "metadata": {},
     "output_type": "execute_result"
    }
   ],
   "source": [
    "# session length (LHS) with corresponding absolute frequency (RHS)\n",
    "from collections import Counter\n",
    "Counter(session_lengths).most_common()"
   ]
  },
  {
   "cell_type": "code",
   "execution_count": 38,
   "id": "11502a10",
   "metadata": {},
   "outputs": [],
   "source": [
    "# data_sa = preprocess(data_sa, min_item_support=5, min_session_length=2, min_user_sessions=3, drop_first=True)"
   ]
  },
  {
   "cell_type": "code",
   "execution_count": 62,
   "id": "765f47a8",
   "metadata": {},
   "outputs": [],
   "source": [
    "num_users = data_sa.userID.nunique()\n",
    "num_events = len(data_sa.appID)\n",
    "num_sessions = data_sa.sessionID.nunique()\n",
    "num_apps = data_sa.appID.nunique()\n",
    "sessions_per_user = num_sessions/num_users\n",
    "session_lengths = data_sa.groupby('sessionID').sessionID.count()\n",
    "mean_eps = num_events/num_sessions\n",
    "q1_eps = np.quantile(session_lengths.values, 0.25)\n",
    "median_eps = np.quantile(session_lengths.values, 0.50)\n",
    "q3_eps = np.quantile(session_lengths.values, 0.75)\n",
    "# unique apps per session: TBD"
   ]
  },
  {
   "cell_type": "code",
   "execution_count": 63,
   "id": "aa3e0a3b",
   "metadata": {},
   "outputs": [
    {
     "name": "stdout",
     "output_type": "stream",
     "text": [
      "number of events: 3140204\n",
      "number of sessions: 515742\n",
      "sessions per user: 1690.9573770491804\n",
      "mean number of events per session: 6.09\n",
      "1st quartile of events per session: 3.0\n",
      "median number of events per session: 4.0\n",
      "3rd quartile of events per session: 7.0\n"
     ]
    }
   ],
   "source": [
    "print('number of events: ' + str(num_events))\n",
    "print('number of sessions: ' + str(num_sessions))\n",
    "print('sessions per user: ' + str(sessions_per_user))\n",
    "print('mean number of events per session: ' + str(round(mean_eps, 2)))\n",
    "print('1st quartile of events per session: ' + str(round(q1_eps, 2)))\n",
    "print('median number of events per session: ' + str(round(median_eps, 2)))\n",
    "print('3rd quartile of events per session: ' + str(round(q3_eps, 2)))"
   ]
  },
  {
   "cell_type": "markdown",
   "id": "df387c2c",
   "metadata": {},
   "source": [
    "### Issues"
   ]
  },
  {
   "cell_type": "markdown",
   "id": "188f08c9",
   "metadata": {},
   "source": [
    "##### single window versus multiple windows"
   ]
  },
  {
   "cell_type": "markdown",
   "id": "a14002b0",
   "metadata": {},
   "source": [
    "* we have few users (310) but many sessions per user (~2724)\n",
    "* only 310 test sessions in total, all of them at the end of January 2018\n",
    "* if splitting the observation time span in, say, 5 equally long parts:\n",
    "    * 5 train sets per user\n",
    "    * 5 test sets per user (we can average performance across the 5 sets)"
   ]
  },
  {
   "cell_type": "markdown",
   "id": "de64d897",
   "metadata": {},
   "source": [
    "##### very short sessions on average"
   ]
  },
  {
   "cell_type": "markdown",
   "id": "a28e7f43",
   "metadata": {},
   "source": [
    "* our data: average sequence length: 5.11\n",
    "* BERT4Rec: dataset with shortest average sequence length: 8.8 (Amazon Beauty)\n",
    "* HGRU4Rec: dataset with shortest average sequence length: 6.1 (Xing)\n",
    "* comparison paper: dataset with shortest average sequence length: 5.62 (Xing)\n",
    "* only 8% of all sessions contain at least 10 apps\n",
    "* this gives rise to the so-called cold start problem for sequential prediction\n",
    "* very questionable whether BERT4Rec will perform well because of the above (and the below)"
   ]
  },
  {
   "cell_type": "markdown",
   "id": "b291de4b",
   "metadata": {},
   "source": [
    "##### first and last app in each session are not really informative"
   ]
  },
  {
   "cell_type": "markdown",
   "id": "e3dd0d7c",
   "metadata": {},
   "source": [
    "* each session has a single OFF_ event at the end (either OFF_LOCKED or OFF_UNLOCKED) and no OFF_ event prior to that\n",
    "* each session has an ON_ event at the beginning (either ON_LOCKED or ON_UNLOCKED)"
   ]
  },
  {
   "cell_type": "markdown",
   "id": "818adf45",
   "metadata": {},
   "source": [
    "* there are 162805 sessions starting with 2 (or more) consecutive ON_ events\n",
    "    * most of them starting with ON_LOCKED followed by ON_UNLOCKED\n",
    "    * 25 sessions starting with ON_UNLOCKED followed by ON_LOCKED (how does that make sense?)"
   ]
  },
  {
   "cell_type": "code",
   "execution_count": null,
   "id": "1596cf42",
   "metadata": {},
   "outputs": [],
   "source": [
    "on_2 = []\n",
    "for i in range(1, len(data_sa)):\n",
    "    if (data_sa.appID[i-1] in [1389, 1390]) and (data_sa.appID[i] in [1392, 1393]):\n",
    "        if data_sa.appID[i+1] in [1392, 1393]:\n",
    "            on_2.append(i)"
   ]
  },
  {
   "cell_type": "code",
   "execution_count": 40,
   "id": "df3a3b7d",
   "metadata": {},
   "outputs": [
    {
     "data": {
      "text/html": [
       "<div>\n",
       "<style scoped>\n",
       "    .dataframe tbody tr th:only-of-type {\n",
       "        vertical-align: middle;\n",
       "    }\n",
       "\n",
       "    .dataframe tbody tr th {\n",
       "        vertical-align: top;\n",
       "    }\n",
       "\n",
       "    .dataframe thead th {\n",
       "        text-align: right;\n",
       "    }\n",
       "</style>\n",
       "<table border=\"1\" class=\"dataframe\">\n",
       "  <thead>\n",
       "    <tr style=\"text-align: right;\">\n",
       "      <th></th>\n",
       "      <th>userID</th>\n",
       "      <th>timestamp</th>\n",
       "      <th>sessionID</th>\n",
       "      <th>appID</th>\n",
       "    </tr>\n",
       "  </thead>\n",
       "  <tbody>\n",
       "    <tr>\n",
       "      <th>22</th>\n",
       "      <td>1</td>\n",
       "      <td>1.511427e+09</td>\n",
       "      <td>6</td>\n",
       "      <td>1389</td>\n",
       "    </tr>\n",
       "    <tr>\n",
       "      <th>23</th>\n",
       "      <td>1</td>\n",
       "      <td>1.511428e+09</td>\n",
       "      <td>7</td>\n",
       "      <td>1392</td>\n",
       "    </tr>\n",
       "    <tr>\n",
       "      <th>24</th>\n",
       "      <td>1</td>\n",
       "      <td>1.511428e+09</td>\n",
       "      <td>7</td>\n",
       "      <td>1393</td>\n",
       "    </tr>\n",
       "    <tr>\n",
       "      <th>25</th>\n",
       "      <td>1</td>\n",
       "      <td>1.511428e+09</td>\n",
       "      <td>7</td>\n",
       "      <td>1194</td>\n",
       "    </tr>\n",
       "    <tr>\n",
       "      <th>26</th>\n",
       "      <td>1</td>\n",
       "      <td>1.511428e+09</td>\n",
       "      <td>7</td>\n",
       "      <td>1194</td>\n",
       "    </tr>\n",
       "    <tr>\n",
       "      <th>27</th>\n",
       "      <td>1</td>\n",
       "      <td>1.511428e+09</td>\n",
       "      <td>7</td>\n",
       "      <td>1169</td>\n",
       "    </tr>\n",
       "  </tbody>\n",
       "</table>\n",
       "</div>"
      ],
      "text/plain": [
       "    userID     timestamp  sessionID  appID\n",
       "22       1  1.511427e+09          6   1389\n",
       "23       1  1.511428e+09          7   1392\n",
       "24       1  1.511428e+09          7   1393\n",
       "25       1  1.511428e+09          7   1194\n",
       "26       1  1.511428e+09          7   1194\n",
       "27       1  1.511428e+09          7   1169"
      ]
     },
     "execution_count": 40,
     "metadata": {},
     "output_type": "execute_result"
    }
   ],
   "source": [
    "# example of a session which starts with ON_LOCKED followed by ON_UNLOCKED\n",
    "i = on_2[0]\n",
    "data_sa[i-1:i+5]"
   ]
  },
  {
   "cell_type": "code",
   "execution_count": 37,
   "id": "3d865ac1",
   "metadata": {},
   "outputs": [],
   "source": [
    "on_unlocked_locked = []\n",
    "for i in range(1, len(data_sa)):\n",
    "    if (data_sa.appID[i-1] in [1389, 1390]) and (data_sa.appID[i]==1393):\n",
    "        if data_sa.appID[i+1]==1392:\n",
    "            on_unlocked_locked.append(i)"
   ]
  },
  {
   "cell_type": "code",
   "execution_count": 41,
   "id": "407f6605",
   "metadata": {},
   "outputs": [
    {
     "data": {
      "text/html": [
       "<div>\n",
       "<style scoped>\n",
       "    .dataframe tbody tr th:only-of-type {\n",
       "        vertical-align: middle;\n",
       "    }\n",
       "\n",
       "    .dataframe tbody tr th {\n",
       "        vertical-align: top;\n",
       "    }\n",
       "\n",
       "    .dataframe thead th {\n",
       "        text-align: right;\n",
       "    }\n",
       "</style>\n",
       "<table border=\"1\" class=\"dataframe\">\n",
       "  <thead>\n",
       "    <tr style=\"text-align: right;\">\n",
       "      <th></th>\n",
       "      <th>userID</th>\n",
       "      <th>timestamp</th>\n",
       "      <th>sessionID</th>\n",
       "      <th>appID</th>\n",
       "    </tr>\n",
       "  </thead>\n",
       "  <tbody>\n",
       "    <tr>\n",
       "      <th>9527</th>\n",
       "      <td>1</td>\n",
       "      <td>1.514115e+09</td>\n",
       "      <td>1549</td>\n",
       "      <td>1389</td>\n",
       "    </tr>\n",
       "    <tr>\n",
       "      <th>9528</th>\n",
       "      <td>1</td>\n",
       "      <td>1.514116e+09</td>\n",
       "      <td>1550</td>\n",
       "      <td>1393</td>\n",
       "    </tr>\n",
       "    <tr>\n",
       "      <th>9529</th>\n",
       "      <td>1</td>\n",
       "      <td>1.514116e+09</td>\n",
       "      <td>1550</td>\n",
       "      <td>1392</td>\n",
       "    </tr>\n",
       "    <tr>\n",
       "      <th>9530</th>\n",
       "      <td>1</td>\n",
       "      <td>1.514116e+09</td>\n",
       "      <td>1550</td>\n",
       "      <td>1389</td>\n",
       "    </tr>\n",
       "    <tr>\n",
       "      <th>9531</th>\n",
       "      <td>1</td>\n",
       "      <td>1.514116e+09</td>\n",
       "      <td>1551</td>\n",
       "      <td>1392</td>\n",
       "    </tr>\n",
       "    <tr>\n",
       "      <th>9532</th>\n",
       "      <td>1</td>\n",
       "      <td>1.514116e+09</td>\n",
       "      <td>1551</td>\n",
       "      <td>1393</td>\n",
       "    </tr>\n",
       "  </tbody>\n",
       "</table>\n",
       "</div>"
      ],
      "text/plain": [
       "      userID     timestamp  sessionID  appID\n",
       "9527       1  1.514115e+09       1549   1389\n",
       "9528       1  1.514116e+09       1550   1393\n",
       "9529       1  1.514116e+09       1550   1392\n",
       "9530       1  1.514116e+09       1550   1389\n",
       "9531       1  1.514116e+09       1551   1392\n",
       "9532       1  1.514116e+09       1551   1393"
      ]
     },
     "execution_count": 41,
     "metadata": {},
     "output_type": "execute_result"
    }
   ],
   "source": [
    "# example of a session which starts with ON_UNLOCKED followed by ON_LOCKED\n",
    "i = on_unlocked_locked[0]\n",
    "data_sa[i-1:i+5]"
   ]
  },
  {
   "cell_type": "markdown",
   "id": "14a7d755",
   "metadata": {},
   "source": [
    "* there are sessions starting with ON_LOCKED, followed by some other apps, followed by ON_UNLOCKED"
   ]
  },
  {
   "cell_type": "code",
   "execution_count": 31,
   "id": "721ff26a",
   "metadata": {},
   "outputs": [],
   "source": [
    "on_other_on = []\n",
    "for i in range(1, len(data_sa)):\n",
    "    if (data_sa.appID[i-1] in [1389, 1390]) and (data_sa.appID[i] in [1392, 1393]):\n",
    "        if (data_sa.appID[i+1] not in [1389, 1390, 1392, 1393]) and (data_sa.appID[i+2] in [1392, 1393]):\n",
    "            on_other_on.append(i)"
   ]
  },
  {
   "cell_type": "code",
   "execution_count": 42,
   "id": "95544d7b",
   "metadata": {},
   "outputs": [
    {
     "data": {
      "text/html": [
       "<div>\n",
       "<style scoped>\n",
       "    .dataframe tbody tr th:only-of-type {\n",
       "        vertical-align: middle;\n",
       "    }\n",
       "\n",
       "    .dataframe tbody tr th {\n",
       "        vertical-align: top;\n",
       "    }\n",
       "\n",
       "    .dataframe thead th {\n",
       "        text-align: right;\n",
       "    }\n",
       "</style>\n",
       "<table border=\"1\" class=\"dataframe\">\n",
       "  <thead>\n",
       "    <tr style=\"text-align: right;\">\n",
       "      <th></th>\n",
       "      <th>userID</th>\n",
       "      <th>timestamp</th>\n",
       "      <th>sessionID</th>\n",
       "      <th>appID</th>\n",
       "    </tr>\n",
       "  </thead>\n",
       "  <tbody>\n",
       "    <tr>\n",
       "      <th>3</th>\n",
       "      <td>1</td>\n",
       "      <td>1.511424e+09</td>\n",
       "      <td>2</td>\n",
       "      <td>1389</td>\n",
       "    </tr>\n",
       "    <tr>\n",
       "      <th>4</th>\n",
       "      <td>1</td>\n",
       "      <td>1.511424e+09</td>\n",
       "      <td>3</td>\n",
       "      <td>1392</td>\n",
       "    </tr>\n",
       "    <tr>\n",
       "      <th>5</th>\n",
       "      <td>1</td>\n",
       "      <td>1.511424e+09</td>\n",
       "      <td>3</td>\n",
       "      <td>1016</td>\n",
       "    </tr>\n",
       "    <tr>\n",
       "      <th>6</th>\n",
       "      <td>1</td>\n",
       "      <td>1.511424e+09</td>\n",
       "      <td>3</td>\n",
       "      <td>1393</td>\n",
       "    </tr>\n",
       "    <tr>\n",
       "      <th>7</th>\n",
       "      <td>1</td>\n",
       "      <td>1.511424e+09</td>\n",
       "      <td>3</td>\n",
       "      <td>1389</td>\n",
       "    </tr>\n",
       "    <tr>\n",
       "      <th>8</th>\n",
       "      <td>1</td>\n",
       "      <td>1.511426e+09</td>\n",
       "      <td>4</td>\n",
       "      <td>1392</td>\n",
       "    </tr>\n",
       "  </tbody>\n",
       "</table>\n",
       "</div>"
      ],
      "text/plain": [
       "   userID     timestamp  sessionID  appID\n",
       "3       1  1.511424e+09          2   1389\n",
       "4       1  1.511424e+09          3   1392\n",
       "5       1  1.511424e+09          3   1016\n",
       "6       1  1.511424e+09          3   1393\n",
       "7       1  1.511424e+09          3   1389\n",
       "8       1  1.511426e+09          4   1392"
      ]
     },
     "execution_count": 42,
     "metadata": {},
     "output_type": "execute_result"
    }
   ],
   "source": [
    "# example of a session which starts with ON_LOCKED followed by some other app followed by ON_UNLOCKED\n",
    "i = on_other_on[0]\n",
    "data_sa[i-1:i+5]"
   ]
  },
  {
   "cell_type": "markdown",
   "id": "e8698cdc",
   "metadata": {},
   "source": [
    "* if we decide to drop the first event of each session (ON_):\n",
    "    * not really consistent content-wise (b/c of the multiple ON_ events)\n",
    "    * we lose all sessions of length 2, i.e., 39% (328535/844296) of all sessions\n",
    "    * average sequence length increases to 6.09\n",
    "    * no major performance changes at first sight\n",
    "* if we decide to drop the last event of each session (OFF_):\n",
    "    * we lose all sessions of length 2 (as above)\n",
    "    * no longer able to predict the length of each session (yet this would be an entirely different task anyway)\n",
    "    * recall: we iteratively predict apps for the next spot in a session, yet we never actively predict whether there will be a next spot\n",
    "    * on the other hand, we would not learn how to predict an OFF_ event\n",
    "    * i.e., we would not learn which sequence is likely to indicate that a session has come to its end"
   ]
  },
  {
   "cell_type": "markdown",
   "id": "8382ec6b",
   "metadata": {},
   "source": [
    "### To do"
   ]
  },
  {
   "cell_type": "markdown",
   "id": "1a6107aa",
   "metadata": {},
   "source": [
    "* Tuning:\n",
    "    * all data or only a single window (i.e., a subset)?\n",
    "    * 50 or 100 optimization iterations?\n",
    "* BERT4Rec: how much time to invest into it?\n",
    "    * run with our data\n",
    "    * no ad hoc performance comparison possible (only last item evaluated)\n",
    "    * extract \"predictions\"\n",
    "    * evaluate predictions using the comparison framework"
   ]
  },
  {
   "cell_type": "markdown",
   "id": "cea56d09",
   "metadata": {},
   "source": [
    "Alternative approaches to encode app sequences:\n",
    "* word2vec\n",
    "* glove\n",
    "\n",
    "But these models only generate app embeddings and do not perform prediction."
   ]
  },
  {
   "cell_type": "markdown",
   "id": "ce53fd08",
   "metadata": {},
   "source": [
    "### unique sessions"
   ]
  },
  {
   "cell_type": "markdown",
   "id": "117e63bd",
   "metadata": {},
   "source": [
    "##### using non-categorized appID"
   ]
  },
  {
   "cell_type": "code",
   "execution_count": 39,
   "id": "824109ea",
   "metadata": {},
   "outputs": [],
   "source": [
    "data_sa['app_string'] = data_sa.appID.astype(str)\n",
    "a = data_sa.groupby(['userID', 'sessionID'])['app_string'].apply(','.join).reset_index()"
   ]
  },
  {
   "cell_type": "code",
   "execution_count": 40,
   "id": "3eae2857",
   "metadata": {},
   "outputs": [
    {
     "data": {
      "text/html": [
       "<div>\n",
       "<style scoped>\n",
       "    .dataframe tbody tr th:only-of-type {\n",
       "        vertical-align: middle;\n",
       "    }\n",
       "\n",
       "    .dataframe tbody tr th {\n",
       "        vertical-align: top;\n",
       "    }\n",
       "\n",
       "    .dataframe thead th {\n",
       "        text-align: right;\n",
       "    }\n",
       "</style>\n",
       "<table border=\"1\" class=\"dataframe\">\n",
       "  <thead>\n",
       "    <tr style=\"text-align: right;\">\n",
       "      <th></th>\n",
       "      <th>userID</th>\n",
       "      <th>sessionID</th>\n",
       "      <th>app_string</th>\n",
       "    </tr>\n",
       "  </thead>\n",
       "  <tbody>\n",
       "    <tr>\n",
       "      <th>0</th>\n",
       "      <td>1</td>\n",
       "      <td>1</td>\n",
       "      <td>1392,1389</td>\n",
       "    </tr>\n",
       "    <tr>\n",
       "      <th>1</th>\n",
       "      <td>1</td>\n",
       "      <td>2</td>\n",
       "      <td>1392,1389</td>\n",
       "    </tr>\n",
       "    <tr>\n",
       "      <th>2</th>\n",
       "      <td>1</td>\n",
       "      <td>3</td>\n",
       "      <td>1392,1016,1393,1389</td>\n",
       "    </tr>\n",
       "    <tr>\n",
       "      <th>3</th>\n",
       "      <td>1</td>\n",
       "      <td>4</td>\n",
       "      <td>1392,1720,1393,1393,1169,1075,1194,1194,1194,1...</td>\n",
       "    </tr>\n",
       "    <tr>\n",
       "      <th>4</th>\n",
       "      <td>1</td>\n",
       "      <td>5</td>\n",
       "      <td>1392,1389</td>\n",
       "    </tr>\n",
       "    <tr>\n",
       "      <th>...</th>\n",
       "      <td>...</td>\n",
       "      <td>...</td>\n",
       "      <td>...</td>\n",
       "    </tr>\n",
       "    <tr>\n",
       "      <th>844291</th>\n",
       "      <td>310</td>\n",
       "      <td>844292</td>\n",
       "      <td>1392,1393,1162,1194,1162,267,1162,1194,1162,1389</td>\n",
       "    </tr>\n",
       "    <tr>\n",
       "      <th>844292</th>\n",
       "      <td>310</td>\n",
       "      <td>844293</td>\n",
       "      <td>1392,1393,1390</td>\n",
       "    </tr>\n",
       "    <tr>\n",
       "      <th>844293</th>\n",
       "      <td>310</td>\n",
       "      <td>844294</td>\n",
       "      <td>1392,1389</td>\n",
       "    </tr>\n",
       "    <tr>\n",
       "      <th>844294</th>\n",
       "      <td>310</td>\n",
       "      <td>844295</td>\n",
       "      <td>1392,1389</td>\n",
       "    </tr>\n",
       "    <tr>\n",
       "      <th>844295</th>\n",
       "      <td>310</td>\n",
       "      <td>844296</td>\n",
       "      <td>1392,1389</td>\n",
       "    </tr>\n",
       "  </tbody>\n",
       "</table>\n",
       "<p>844296 rows × 3 columns</p>\n",
       "</div>"
      ],
      "text/plain": [
       "        userID  sessionID                                         app_string\n",
       "0            1          1                                          1392,1389\n",
       "1            1          2                                          1392,1389\n",
       "2            1          3                                1392,1016,1393,1389\n",
       "3            1          4  1392,1720,1393,1393,1169,1075,1194,1194,1194,1...\n",
       "4            1          5                                          1392,1389\n",
       "...        ...        ...                                                ...\n",
       "844291     310     844292   1392,1393,1162,1194,1162,267,1162,1194,1162,1389\n",
       "844292     310     844293                                     1392,1393,1390\n",
       "844293     310     844294                                          1392,1389\n",
       "844294     310     844295                                          1392,1389\n",
       "844295     310     844296                                          1392,1389\n",
       "\n",
       "[844296 rows x 3 columns]"
      ]
     },
     "execution_count": 40,
     "metadata": {},
     "output_type": "execute_result"
    }
   ],
   "source": [
    "a"
   ]
  },
  {
   "cell_type": "code",
   "execution_count": 41,
   "id": "dc0ffc7d",
   "metadata": {},
   "outputs": [
    {
     "data": {
      "text/plain": [
       "173808"
      ]
     },
     "execution_count": 41,
     "metadata": {},
     "output_type": "execute_result"
    }
   ],
   "source": [
    "a.app_string.nunique()"
   ]
  },
  {
   "cell_type": "markdown",
   "id": "91d6c048",
   "metadata": {},
   "source": [
    "##### using categorized appID"
   ]
  },
  {
   "cell_type": "code",
   "execution_count": 42,
   "id": "2846b32f",
   "metadata": {},
   "outputs": [],
   "source": [
    "data_raw = pyreadr.read_r('../../data/sequences_all_anon.Rds')[None]\n",
    "data_raw = data_raw.rename(columns={'datum':'date', 'value':'category', 'anon_apps.name':'app_name'})\n",
    "data_raw['timestamp'] = data_raw['date'].apply(lambda x: x.timestamp())\n",
    "data_raw.loc[data_raw['app_name'].isnull(),'app_name'] = data_raw['category'] # replace NaNs in app_name by corresponding category value\n",
    "data_raw['sessionID'] = data_raw['app_name'].shift(1).isin(['OFF_LOCKED','OFF_UNLOCKED']).cumsum() + 1 # sessionID is like sequence_number but does NOT start anew for each"
   ]
  },
  {
   "cell_type": "code",
   "execution_count": 43,
   "id": "ded1453c",
   "metadata": {},
   "outputs": [],
   "source": [
    "data_sa = data_raw\n",
    "app_mapping = dict([(y,x+1) for x,y in enumerate(sorted(set(data_sa['app_name'])))])\n",
    "app_indexes = [app_mapping[x] for x in data_sa['app_name']]\n",
    "# print(len(set(app_indexes)) == data_sa['app_name'].nunique()) # check\n",
    "\n",
    "user_mapping = dict([(y,x+1) for x,y in enumerate(sorted(set(data_sa['userId'])))])\n",
    "user_indexes = [user_mapping[x] for x in data_sa['userId']]\n",
    "# print(len(set(user_indexes)) == data_sa['userId'].nunique()) # check\n",
    "\n",
    "data_sa['appID'] = app_indexes\n",
    "data_sa.insert(0, 'userID', user_indexes)\n",
    "\n",
    "data_sa = data_sa.drop(['userId', 'date', 'activity', 'sequence_number', 'app_name'], axis=1)"
   ]
  },
  {
   "cell_type": "code",
   "execution_count": 44,
   "id": "56c6f46f",
   "metadata": {},
   "outputs": [
    {
     "name": "stderr",
     "output_type": "stream",
     "text": [
      "c:\\users\\simon\\desktop\\ma\\env_3.6\\lib\\site-packages\\pandas\\core\\indexing.py:670: SettingWithCopyWarning: \n",
      "A value is trying to be set on a copy of a slice from a DataFrame\n",
      "\n",
      "See the caveats in the documentation: https://pandas.pydata.org/pandas-docs/stable/user_guide/indexing.html#returning-a-view-versus-a-copy\n",
      "  iloc._setitem_with_indexer(indexer, value)\n"
     ]
    }
   ],
   "source": [
    "data_sa['category'].loc[data_sa['category'] == 'OFF_LOCKED'] = 'OFF'\n",
    "data_sa['category'].loc[data_sa['category'] == 'OFF_UNLOCKED'] = 'OFF'\n",
    "data_sa['category'].loc[data_sa['category'] == 'ON_LOCKED'] = 'ON'\n",
    "data_sa['category'].loc[data_sa['category'] == 'ON_UNLOCKED'] = 'ON'"
   ]
  },
  {
   "cell_type": "code",
   "execution_count": 45,
   "id": "6a157967",
   "metadata": {},
   "outputs": [],
   "source": [
    "b = data_sa.groupby(['userID', 'sessionID'])['category'].apply(','.join).reset_index()"
   ]
  },
  {
   "cell_type": "code",
   "execution_count": 47,
   "id": "8ebe21ad",
   "metadata": {},
   "outputs": [
    {
     "data": {
      "text/html": [
       "<div>\n",
       "<style scoped>\n",
       "    .dataframe tbody tr th:only-of-type {\n",
       "        vertical-align: middle;\n",
       "    }\n",
       "\n",
       "    .dataframe tbody tr th {\n",
       "        vertical-align: top;\n",
       "    }\n",
       "\n",
       "    .dataframe thead th {\n",
       "        text-align: right;\n",
       "    }\n",
       "</style>\n",
       "<table border=\"1\" class=\"dataframe\">\n",
       "  <thead>\n",
       "    <tr style=\"text-align: right;\">\n",
       "      <th></th>\n",
       "      <th>userID</th>\n",
       "      <th>sessionID</th>\n",
       "      <th>category</th>\n",
       "    </tr>\n",
       "  </thead>\n",
       "  <tbody>\n",
       "    <tr>\n",
       "      <th>0</th>\n",
       "      <td>1</td>\n",
       "      <td>1</td>\n",
       "      <td>ON,OFF</td>\n",
       "    </tr>\n",
       "    <tr>\n",
       "      <th>1</th>\n",
       "      <td>1</td>\n",
       "      <td>2</td>\n",
       "      <td>ON,OFF</td>\n",
       "    </tr>\n",
       "    <tr>\n",
       "      <th>2</th>\n",
       "      <td>1</td>\n",
       "      <td>3</td>\n",
       "      <td>ON,INBOX,ON,OFF</td>\n",
       "    </tr>\n",
       "    <tr>\n",
       "      <th>3</th>\n",
       "      <td>1</td>\n",
       "      <td>4</td>\n",
       "      <td>ON,Settings,ON,ON,Launcher,Internet_Browser,Me...</td>\n",
       "    </tr>\n",
       "    <tr>\n",
       "      <th>4</th>\n",
       "      <td>1</td>\n",
       "      <td>5</td>\n",
       "      <td>ON,OFF</td>\n",
       "    </tr>\n",
       "    <tr>\n",
       "      <th>...</th>\n",
       "      <td>...</td>\n",
       "      <td>...</td>\n",
       "      <td>...</td>\n",
       "    </tr>\n",
       "    <tr>\n",
       "      <th>844291</th>\n",
       "      <td>310</td>\n",
       "      <td>844292</td>\n",
       "      <td>ON,ON,Launcher,Messaging,Launcher,E_Mail,Launc...</td>\n",
       "    </tr>\n",
       "    <tr>\n",
       "      <th>844292</th>\n",
       "      <td>310</td>\n",
       "      <td>844293</td>\n",
       "      <td>ON,ON,OFF</td>\n",
       "    </tr>\n",
       "    <tr>\n",
       "      <th>844293</th>\n",
       "      <td>310</td>\n",
       "      <td>844294</td>\n",
       "      <td>ON,OFF</td>\n",
       "    </tr>\n",
       "    <tr>\n",
       "      <th>844294</th>\n",
       "      <td>310</td>\n",
       "      <td>844295</td>\n",
       "      <td>ON,OFF</td>\n",
       "    </tr>\n",
       "    <tr>\n",
       "      <th>844295</th>\n",
       "      <td>310</td>\n",
       "      <td>844296</td>\n",
       "      <td>ON,OFF</td>\n",
       "    </tr>\n",
       "  </tbody>\n",
       "</table>\n",
       "<p>844296 rows × 3 columns</p>\n",
       "</div>"
      ],
      "text/plain": [
       "        userID  sessionID                                           category\n",
       "0            1          1                                             ON,OFF\n",
       "1            1          2                                             ON,OFF\n",
       "2            1          3                                    ON,INBOX,ON,OFF\n",
       "3            1          4  ON,Settings,ON,ON,Launcher,Internet_Browser,Me...\n",
       "4            1          5                                             ON,OFF\n",
       "...        ...        ...                                                ...\n",
       "844291     310     844292  ON,ON,Launcher,Messaging,Launcher,E_Mail,Launc...\n",
       "844292     310     844293                                          ON,ON,OFF\n",
       "844293     310     844294                                             ON,OFF\n",
       "844294     310     844295                                             ON,OFF\n",
       "844295     310     844296                                             ON,OFF\n",
       "\n",
       "[844296 rows x 3 columns]"
      ]
     },
     "execution_count": 47,
     "metadata": {},
     "output_type": "execute_result"
    }
   ],
   "source": [
    "b"
   ]
  },
  {
   "cell_type": "code",
   "execution_count": 46,
   "id": "81d970d4",
   "metadata": {},
   "outputs": [
    {
     "data": {
      "text/plain": [
       "124624"
      ]
     },
     "execution_count": 46,
     "metadata": {},
     "output_type": "execute_result"
    }
   ],
   "source": [
    "b.category.nunique()"
   ]
  },
  {
   "cell_type": "markdown",
   "id": "6a7db1ce",
   "metadata": {},
   "source": [
    "### most popular app"
   ]
  },
  {
   "cell_type": "code",
   "execution_count": null,
   "id": "18c528b4",
   "metadata": {},
   "outputs": [],
   "source": [
    "###### overall\n",
    "\n",
    "\n",
    "###### excluding ON_ and OFF_\n",
    "\n"
   ]
  }
 ],
 "metadata": {
  "kernelspec": {
   "display_name": "Python 3",
   "language": "python",
   "name": "python3"
  },
  "language_info": {
   "codemirror_mode": {
    "name": "ipython",
    "version": 3
   },
   "file_extension": ".py",
   "mimetype": "text/x-python",
   "name": "python",
   "nbconvert_exporter": "python",
   "pygments_lexer": "ipython3",
   "version": "3.6.8"
  }
 },
 "nbformat": 4,
 "nbformat_minor": 5
}
