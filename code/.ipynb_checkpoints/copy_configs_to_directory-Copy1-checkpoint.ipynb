{
 "cells": [
  {
   "cell_type": "code",
   "execution_count": 14,
   "id": "fdf66bdb",
   "metadata": {},
   "outputs": [],
   "source": [
    "import os\n",
    "import shutil"
   ]
  },
  {
   "cell_type": "code",
   "execution_count": 15,
   "id": "4e4df041",
   "metadata": {},
   "outputs": [],
   "source": [
    "os.chdir('C:\\\\Users\\\\Simon\\\\Desktop\\\\MA\\\\session-rec')"
   ]
  },
  {
   "cell_type": "code",
   "execution_count": 17,
   "id": "d2df772c",
   "metadata": {},
   "outputs": [],
   "source": [
    "import os\n",
    "import shutil\n",
    "\n",
    "# done = [0, 1, 2, 3, 6, 7, 13, 14, 15, 17, 26, 27, 28, 29, 30, 31, 32, 33, 34, 36, 37, 38, 39, 41, 42, 43, 44, 45, 46, 47, \n",
    "#            49, 50, 51, 52, 53, 54, 55, 56, 57, 58, 59, 60, 61, 62, 63, 65, 66, 67, 70, 72, 73, 75, 76, 77, 78, 79, 81, 82, 83, \n",
    "#            84, 85, 89, 90, 91, 92, 93, 94, 95]\n",
    "# numbers = list(set(list(range(0,100))) - set(done))\n",
    "numbers = [i for i in range(0,100)]\n",
    "# del numbers[24]\n",
    "# del numbers[72]\n",
    "window = 3\n",
    "algo = 'gru4rec_Reminder'\n",
    "files = ['./conf/tuning/app-level/multiple/' + str(algo) + '-config_' + str(i) + '-window_' + str(window) + '.yml' for i in numbers]\n",
    "for f in files:\n",
    "    shutil.copy(f, './conf/in')"
   ]
  }
 ],
 "metadata": {
  "kernelspec": {
   "display_name": "Python 3",
   "language": "python",
   "name": "python3"
  },
  "language_info": {
   "codemirror_mode": {
    "name": "ipython",
    "version": 3
   },
   "file_extension": ".py",
   "mimetype": "text/x-python",
   "name": "python",
   "nbconvert_exporter": "python",
   "pygments_lexer": "ipython3",
   "version": "3.6.8"
  }
 },
 "nbformat": 4,
 "nbformat_minor": 5
}
