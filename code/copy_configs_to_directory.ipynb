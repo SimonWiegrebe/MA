{
 "cells": [
  {
   "cell_type": "code",
   "execution_count": 1,
   "id": "fdf66bdb",
   "metadata": {},
   "outputs": [],
   "source": [
    "import os\n",
    "import shutil"
   ]
  },
  {
   "cell_type": "code",
   "execution_count": 2,
   "id": "09a05148",
   "metadata": {},
   "outputs": [],
   "source": [
    "os.chdir('C:\\\\Users\\\\Simon\\\\Desktop\\\\multiple')"
   ]
  },
  {
   "cell_type": "code",
   "execution_count": 7,
   "id": "3293df86",
   "metadata": {},
   "outputs": [],
   "source": [
    "a = [f for f in os.listdir() if f.endswith('_window_4.csv') and f.startswith('test_single_gru4rec_config')]"
   ]
  },
  {
   "cell_type": "code",
   "execution_count": 15,
   "id": "5820de47",
   "metadata": {},
   "outputs": [],
   "source": [
    "b = [int(i.split('config_')[1].split('_window')[0]) for i in a]"
   ]
  },
  {
   "cell_type": "code",
   "execution_count": 17,
   "id": "efd9f0ba",
   "metadata": {},
   "outputs": [],
   "source": [
    "b.sort()"
   ]
  },
  {
   "cell_type": "code",
   "execution_count": 19,
   "id": "442d33e1",
   "metadata": {},
   "outputs": [
    {
     "name": "stdout",
     "output_type": "stream",
     "text": [
      "[0, 1, 8, 9, 10, 11, 13, 14, 15, 17, 18, 19, 20, 21, 22, 23, 24, 25, 28, 34, 36, 37, 38, 39, 41, 42, 43, 44, 45, 46, 47, 49, 50, 51, 52, 53, 54, 55, 56, 57, 58, 59, 60, 61, 62, 63, 70, 72, 73, 75, 76, 77, 78, 79, 81, 82, 83, 84, 85, 86, 91, 92, 93, 94, 95, 96, 98, 99]\n"
     ]
    }
   ],
   "source": [
    "print(b)"
   ]
  },
  {
   "cell_type": "code",
   "execution_count": 15,
   "id": "4e4df041",
   "metadata": {},
   "outputs": [],
   "source": [
    "os.chdir('C:\\\\Users\\\\Simon\\\\Desktop\\\\MA\\\\session-rec')"
   ]
  },
  {
   "cell_type": "code",
   "execution_count": 2,
   "id": "d2df772c",
   "metadata": {},
   "outputs": [],
   "source": [
    "import os\n",
    "import shutil\n",
    "\n",
    "# done = [0, 1, 8, 9, 10, 11, 13, 14, 15, 17, 18, 19, 20, 21, 22, 23, 24, 25, 28, 34, 36, 37, 38, 39, 41, 42, 43, 44, 45, 46, 47, 49, 50, 51, 52, 53, 54, 55, 56, 57, 58, 59, 60, 61, 62, 63, 70, 72, 73, 75, 76, 77, 78, 79, 81, 82, 83, 84, 85, 86, 91, 92, 93, 94, 95, 96, 98, 99]\n",
    "# numbers = list(set(list(range(0,100))) - set(done))\n",
    "numbers = [11, 12, 13, 14, 15, 17, 19, 20, 21, 22, 24, 26, 27, 29, 34, 35, 36, 37, 38]\n",
    "# del numbers[24]\n",
    "# del numbers[72]\n",
    "window = 2\n",
    "algo = 'gru4rec'\n",
    "files = ['./conf/tuning/app-level/multiple/' + str(algo) + '-config_' + str(i) + '-window_' + str(window) + '.yml' for i in numbers]\n",
    "for f in files:\n",
    "    shutil.copy(f, './conf/in')"
   ]
  }
 ],
 "metadata": {
  "kernelspec": {
   "display_name": "Python 3",
   "language": "python",
   "name": "python3"
  },
  "language_info": {
   "codemirror_mode": {
    "name": "ipython",
    "version": 3
   },
   "file_extension": ".py",
   "mimetype": "text/x-python",
   "name": "python",
   "nbconvert_exporter": "python",
   "pygments_lexer": "ipython3",
   "version": "3.6.8"
  }
 },
 "nbformat": 4,
 "nbformat_minor": 5
}
