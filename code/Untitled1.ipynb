{
 "cells": [
  {
   "cell_type": "code",
   "execution_count": 1,
   "id": "a02713ee",
   "metadata": {},
   "outputs": [],
   "source": [
    "import datetime\n",
    "import matplotlib\n",
    "import numpy as np\n",
    "import pandas as pd\n",
    "import pyreadr\n",
    "\n"
   ]
  },
  {
   "cell_type": "code",
   "execution_count": 18,
   "id": "259e5f0e",
   "metadata": {},
   "outputs": [],
   "source": [
    "import os\n",
    "import shutil\n",
    "\n",
    "numbers = [i for i in range(1,100)]\n",
    "del numbers[24]\n",
    "del numbers[48]\n",
    "del numbers[72]\n",
    "files = ['./tuning/app-level/multiple/gru4rec-config_' + str(i) + '-window_2' for i in numbers]\n",
    "for f in files:\n",
    "    shutil.copy(f, './in')"
   ]
  },
  {
   "cell_type": "code",
   "execution_count": null,
   "id": "c37767e8",
   "metadata": {},
   "outputs": [],
   "source": [
    "\n"
   ]
  },
  {
   "cell_type": "code",
   "execution_count": 2,
   "id": "164e6246",
   "metadata": {},
   "outputs": [],
   "source": [
    "data_raw_1 = pyreadr.read_r('../../data/sequences_all_anon.Rds')[None]\n",
    "data_raw_2 = pyreadr.read_r('../../data/sequences_all_anon_1.Rds')[None]\n",
    "data_raw_3 = pyreadr.read_r('../../data/sequences_all_anon_wild.Rds')[None]"
   ]
  },
  {
   "cell_type": "code",
   "execution_count": 3,
   "id": "7247e38e",
   "metadata": {},
   "outputs": [
    {
     "name": "stdout",
     "output_type": "stream",
     "text": [
      "4314830\n",
      "72173\n",
      "186179\n"
     ]
    }
   ],
   "source": [
    "print(len(data_raw_1))\n",
    "print(len(data_raw_2))\n",
    "print(len(data_raw_3))"
   ]
  },
  {
   "cell_type": "code",
   "execution_count": 4,
   "id": "fdb818bd",
   "metadata": {},
   "outputs": [
    {
     "name": "stdout",
     "output_type": "stream",
     "text": [
      "0.94350716853167\n"
     ]
    }
   ],
   "source": [
    "print(len(data_raw_1)/(len(data_raw_1)+len(data_raw_2)+len(data_raw_3)))"
   ]
  },
  {
   "cell_type": "code",
   "execution_count": 7,
   "id": "acdff443",
   "metadata": {},
   "outputs": [
    {
     "name": "stdout",
     "output_type": "stream",
     "text": [
      "310\n",
      "136\n",
      "255\n"
     ]
    }
   ],
   "source": [
    "print(data_raw_1.userId.nunique())\n",
    "print(data_raw_2.userId.nunique())\n",
    "print(data_raw_3.userId.nunique())"
   ]
  },
  {
   "cell_type": "code",
   "execution_count": 31,
   "id": "b60af095",
   "metadata": {},
   "outputs": [
    {
     "data": {
      "text/html": [
       "<div>\n",
       "<style scoped>\n",
       "    .dataframe tbody tr th:only-of-type {\n",
       "        vertical-align: middle;\n",
       "    }\n",
       "\n",
       "    .dataframe tbody tr th {\n",
       "        vertical-align: top;\n",
       "    }\n",
       "\n",
       "    .dataframe thead th {\n",
       "        text-align: right;\n",
       "    }\n",
       "</style>\n",
       "<table border=\"1\" class=\"dataframe\">\n",
       "  <thead>\n",
       "    <tr style=\"text-align: right;\">\n",
       "      <th></th>\n",
       "      <th>userId</th>\n",
       "      <th>timestamp</th>\n",
       "      <th>datum</th>\n",
       "      <th>activity</th>\n",
       "      <th>value</th>\n",
       "      <th>sequence_number</th>\n",
       "      <th>anon_apps.name</th>\n",
       "    </tr>\n",
       "  </thead>\n",
       "  <tbody>\n",
       "    <tr>\n",
       "      <th>0</th>\n",
       "      <td>122299</td>\n",
       "      <td>43</td>\n",
       "      <td>2017-02-01 13:03:40</td>\n",
       "      <td>SCREEN</td>\n",
       "      <td>ON_LOCKED</td>\n",
       "      <td>1.0</td>\n",
       "      <td>NaN</td>\n",
       "    </tr>\n",
       "    <tr>\n",
       "      <th>1</th>\n",
       "      <td>122299</td>\n",
       "      <td>44</td>\n",
       "      <td>2017-02-01 13:03:56</td>\n",
       "      <td>SCREEN</td>\n",
       "      <td>ON_UNLOCKED</td>\n",
       "      <td>1.0</td>\n",
       "      <td>NaN</td>\n",
       "    </tr>\n",
       "    <tr>\n",
       "      <th>2</th>\n",
       "      <td>122299</td>\n",
       "      <td>45</td>\n",
       "      <td>2017-02-01 13:03:59</td>\n",
       "      <td>APPS</td>\n",
       "      <td>Messaging</td>\n",
       "      <td>1.0</td>\n",
       "      <td>Messaging_1</td>\n",
       "    </tr>\n",
       "    <tr>\n",
       "      <th>3</th>\n",
       "      <td>122299</td>\n",
       "      <td>46</td>\n",
       "      <td>2017-02-01 13:04:01</td>\n",
       "      <td>APPS</td>\n",
       "      <td>Launcher</td>\n",
       "      <td>1.0</td>\n",
       "      <td>Launcher_1</td>\n",
       "    </tr>\n",
       "    <tr>\n",
       "      <th>4</th>\n",
       "      <td>122299</td>\n",
       "      <td>47</td>\n",
       "      <td>2017-02-01 13:04:03</td>\n",
       "      <td>APPS</td>\n",
       "      <td>Messaging</td>\n",
       "      <td>1.0</td>\n",
       "      <td>Messaging_1</td>\n",
       "    </tr>\n",
       "    <tr>\n",
       "      <th>...</th>\n",
       "      <td>...</td>\n",
       "      <td>...</td>\n",
       "      <td>...</td>\n",
       "      <td>...</td>\n",
       "      <td>...</td>\n",
       "      <td>...</td>\n",
       "      <td>...</td>\n",
       "    </tr>\n",
       "    <tr>\n",
       "      <th>186174</th>\n",
       "      <td>299627</td>\n",
       "      <td>732</td>\n",
       "      <td>2016-11-04 22:55:32</td>\n",
       "      <td>SCREEN</td>\n",
       "      <td>ON_UNLOCKED</td>\n",
       "      <td>168.0</td>\n",
       "      <td>NaN</td>\n",
       "    </tr>\n",
       "    <tr>\n",
       "      <th>186175</th>\n",
       "      <td>299627</td>\n",
       "      <td>733</td>\n",
       "      <td>2016-11-04 22:55:40</td>\n",
       "      <td>APPS</td>\n",
       "      <td>Launcher</td>\n",
       "      <td>168.0</td>\n",
       "      <td>Launcher_1</td>\n",
       "    </tr>\n",
       "    <tr>\n",
       "      <th>186176</th>\n",
       "      <td>299627</td>\n",
       "      <td>734</td>\n",
       "      <td>2016-11-04 22:55:41</td>\n",
       "      <td>SCREEN</td>\n",
       "      <td>OFF_UNLOCKED</td>\n",
       "      <td>168.0</td>\n",
       "      <td>NaN</td>\n",
       "    </tr>\n",
       "    <tr>\n",
       "      <th>186177</th>\n",
       "      <td>299627</td>\n",
       "      <td>735</td>\n",
       "      <td>2016-11-04 22:56:01</td>\n",
       "      <td>SCREEN</td>\n",
       "      <td>ON_UNLOCKED</td>\n",
       "      <td>169.0</td>\n",
       "      <td>NaN</td>\n",
       "    </tr>\n",
       "    <tr>\n",
       "      <th>186178</th>\n",
       "      <td>299627</td>\n",
       "      <td>736</td>\n",
       "      <td>2016-11-04 22:56:03</td>\n",
       "      <td>SCREEN</td>\n",
       "      <td>OFF_UNLOCKED</td>\n",
       "      <td>169.0</td>\n",
       "      <td>NaN</td>\n",
       "    </tr>\n",
       "  </tbody>\n",
       "</table>\n",
       "<p>186179 rows × 7 columns</p>\n",
       "</div>"
      ],
      "text/plain": [
       "        userId  timestamp               datum activity         value  \\\n",
       "0       122299         43 2017-02-01 13:03:40   SCREEN     ON_LOCKED   \n",
       "1       122299         44 2017-02-01 13:03:56   SCREEN   ON_UNLOCKED   \n",
       "2       122299         45 2017-02-01 13:03:59     APPS     Messaging   \n",
       "3       122299         46 2017-02-01 13:04:01     APPS      Launcher   \n",
       "4       122299         47 2017-02-01 13:04:03     APPS     Messaging   \n",
       "...        ...        ...                 ...      ...           ...   \n",
       "186174  299627        732 2016-11-04 22:55:32   SCREEN   ON_UNLOCKED   \n",
       "186175  299627        733 2016-11-04 22:55:40     APPS      Launcher   \n",
       "186176  299627        734 2016-11-04 22:55:41   SCREEN  OFF_UNLOCKED   \n",
       "186177  299627        735 2016-11-04 22:56:01   SCREEN   ON_UNLOCKED   \n",
       "186178  299627        736 2016-11-04 22:56:03   SCREEN  OFF_UNLOCKED   \n",
       "\n",
       "        sequence_number anon_apps.name  \n",
       "0                   1.0            NaN  \n",
       "1                   1.0            NaN  \n",
       "2                   1.0    Messaging_1  \n",
       "3                   1.0     Launcher_1  \n",
       "4                   1.0    Messaging_1  \n",
       "...                 ...            ...  \n",
       "186174            168.0            NaN  \n",
       "186175            168.0     Launcher_1  \n",
       "186176            168.0            NaN  \n",
       "186177            169.0            NaN  \n",
       "186178            169.0            NaN  \n",
       "\n",
       "[186179 rows x 7 columns]"
      ]
     },
     "execution_count": 31,
     "metadata": {},
     "output_type": "execute_result"
    }
   ],
   "source": [
    "data_raw_3"
   ]
  },
  {
   "cell_type": "code",
   "execution_count": 18,
   "id": "9813ad94",
   "metadata": {},
   "outputs": [
    {
     "data": {
      "text/plain": [
       "106.13676470588234"
      ]
     },
     "execution_count": 18,
     "metadata": {},
     "output_type": "execute_result"
    }
   ],
   "source": [
    "data_raw_2.shape[0]/136/5"
   ]
  },
  {
   "cell_type": "code",
   "execution_count": 15,
   "id": "07bbb954",
   "metadata": {},
   "outputs": [
    {
     "data": {
      "text/plain": [
       "146.02274509803922"
      ]
     },
     "execution_count": 15,
     "metadata": {},
     "output_type": "execute_result"
    }
   ],
   "source": [
    "data_raw_3.shape[0]/255/5"
   ]
  }
 ],
 "metadata": {
  "kernelspec": {
   "display_name": "Python 3",
   "language": "python",
   "name": "python3"
  },
  "language_info": {
   "codemirror_mode": {
    "name": "ipython",
    "version": 3
   },
   "file_extension": ".py",
   "mimetype": "text/x-python",
   "name": "python",
   "nbconvert_exporter": "python",
   "pygments_lexer": "ipython3",
   "version": "3.6.8"
  }
 },
 "nbformat": 4,
 "nbformat_minor": 5
}
