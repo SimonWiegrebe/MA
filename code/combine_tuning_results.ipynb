{
 "cells": [
  {
   "cell_type": "code",
   "execution_count": 1,
   "id": "fe7a7e17",
   "metadata": {},
   "outputs": [],
   "source": [
    "# import packages\n",
    "import datetime\n",
    "import matplotlib\n",
    "import numpy as np\n",
    "import pandas as pd\n",
    "import os"
   ]
  },
  {
   "cell_type": "code",
   "execution_count": 2,
   "id": "da931539",
   "metadata": {},
   "outputs": [],
   "source": [
    "os.chdir('C:\\\\Users\\\\Simon\\\\Desktop\\\\MA\\\\session-rec')"
   ]
  },
  {
   "cell_type": "code",
   "execution_count": 3,
   "id": "5ae88348",
   "metadata": {},
   "outputs": [],
   "source": [
    "def read_single_file(file):\n",
    "    df = pd.read_csv(file, sep=';')\n",
    "    df.drop(df.filter(regex='Unnamed'), axis=1, inplace=True)\n",
    "    return df"
   ]
  },
  {
   "cell_type": "code",
   "execution_count": 10,
   "id": "9fdc6d6f",
   "metadata": {},
   "outputs": [],
   "source": [
    "exclude_onoff = False\n",
    "if exclude_onoff:\n",
    "    tuning_folder = 'tuning_onoff'\n",
    "else:\n",
    "    tuning_folder = 'tuning'\n",
    "algos = ['gru4rec']\n",
    "# datatypes = ['app-level', 'sequence-level']\n",
    "datatypes = ['app-level']\n",
    "windows = [1]\n",
    "# windows = 'single'\n",
    "budget = 100"
   ]
  },
  {
   "cell_type": "code",
   "execution_count": 13,
   "id": "c49ac33e",
   "metadata": {},
   "outputs": [],
   "source": [
    "for datatype in datatypes:\n",
    "    folder_in = 'results/' + str(tuning_folder) + '/' + str(datatype) + '/multiple_raw/'\n",
    "    folder_out = 'results/' + str(tuning_folder) + '/' + str(datatype) + '/multiple/'\n",
    "    for algo in algos:\n",
    "        for window in windows:\n",
    "            files_in = [folder_in + f for f in os.listdir(folder_in) \n",
    "                     if f.startswith('test_single_' + str(algo) + '_config_') and f.endswith('_window_' + str(window) + '.csv')]\n",
    "\n",
    "            res = pd.DataFrame(np.nan, index=list(range(budget)),columns=['Metrics', 'HitRate@1: '])\n",
    "            for i in range(budget):\n",
    "                file = str(folder_in) + 'test_single_' + str(algo) + '_config_' + str(i) + '_window_' + str(window) + '.csv'\n",
    "                if file in files_in:\n",
    "                    df = read_single_file(file)\n",
    "                    hr = df['HitRate@1: '][0]\n",
    "                    res.iloc[i] = [df['Metrics'][0], df['HitRate@1: '][0]]\n",
    "                    \n",
    "#             res.drop_duplicates(inplace=True) # drop duplicate rows\n",
    "            file_out = folder_out + 'test_single_' + str(algo) + '_window_' + str(window) + '.csv'\n",
    "            res.to_csv(file_out, index=False, sep=';')"
   ]
  }
 ],
 "metadata": {
  "kernelspec": {
   "display_name": "Python 3",
   "language": "python",
   "name": "python3"
  },
  "language_info": {
   "codemirror_mode": {
    "name": "ipython",
    "version": 3
   },
   "file_extension": ".py",
   "mimetype": "text/x-python",
   "name": "python",
   "nbconvert_exporter": "python",
   "pygments_lexer": "ipython3",
   "version": "3.6.8"
  }
 },
 "nbformat": 4,
 "nbformat_minor": 5
}
