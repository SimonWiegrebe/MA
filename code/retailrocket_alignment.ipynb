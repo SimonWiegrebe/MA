{
 "cells": [
  {
   "cell_type": "code",
   "execution_count": 1,
   "id": "7a7e1e56",
   "metadata": {},
   "outputs": [],
   "source": [
    "# import packages\n",
    "import datetime\n",
    "import matplotlib\n",
    "import numpy as np\n",
    "import pandas as pd\n",
    "import pyreadr\n",
    "import os"
   ]
  },
  {
   "cell_type": "code",
   "execution_count": 2,
   "id": "c1c2d624",
   "metadata": {},
   "outputs": [],
   "source": [
    "# assign keys\n",
    "USER_KEY = 'userID'\n",
    "TIME_KEY = 'timestamp'\n",
    "ITEM_KEY = 'appID'\n",
    "SESSION_KEY = 'sessionID'\n",
    "# ITEM_KEY = 'usID'\n",
    "# SESSION_KEY = 'sentenceID'"
   ]
  },
  {
   "cell_type": "code",
   "execution_count": 3,
   "id": "412dc896",
   "metadata": {},
   "outputs": [],
   "source": [
    "path = '../../data/app-level/multiple/'\n",
    "filename = 'events-1-drop_on-drop_off'\n",
    "\n",
    "# path = '../../data/sequence-level/multiple/'\n",
    "# filename = 'events-1-seq_drop_onoff_all'\n",
    "\n",
    "output_path = '../../session-rec/data/retailrocket/prepared/events.hdf'"
   ]
  },
  {
   "cell_type": "code",
   "execution_count": 4,
   "id": "aabdede4",
   "metadata": {},
   "outputs": [],
   "source": [
    "for split in ['test', 'train', 'valid_test', 'valid_train']:\n",
    "    dataset = pd.read_hdf(path + filename + '.hdf', split)\n",
    "    dataset = dataset.rename(columns={\"userID\":\"visitorid\", ITEM_KEY:\"itemid\", SESSION_KEY:\"session_id\"})\n",
    "    if split == 'test':\n",
    "        mode = 'w' # create new file for 'test', which is the first split (to avoid adding to existing file)\n",
    "    else: mode = 'a' # append all other splits\n",
    "    dataset.to_hdf(output_path, key=split, mode=mode)"
   ]
  }
 ],
 "metadata": {
  "kernelspec": {
   "display_name": "Python 3",
   "language": "python",
   "name": "python3"
  },
  "language_info": {
   "codemirror_mode": {
    "name": "ipython",
    "version": 3
   },
   "file_extension": ".py",
   "mimetype": "text/x-python",
   "name": "python",
   "nbconvert_exporter": "python",
   "pygments_lexer": "ipython3",
   "version": "3.6.8"
  }
 },
 "nbformat": 4,
 "nbformat_minor": 5
}
