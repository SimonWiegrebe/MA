{
 "cells": [
  {
   "cell_type": "code",
   "execution_count": null,
   "id": "e13486f3",
   "metadata": {},
   "outputs": [],
   "source": [
    "import datetime\n",
    "import matplotlib\n",
    "import numpy as np\n",
    "import pandas as pd\n",
    "import pyreadr\n",
    "\n",
    "import os"
   ]
  },
  {
   "cell_type": "code",
   "execution_count": null,
   "id": "81378749",
   "metadata": {},
   "outputs": [],
   "source": [
    "for split in ['test', 'train', 'valid_test', 'valid_train']:\n",
    "    dataset = pd.read_hdf('../../session-aware_RC_2020/code/data/xing/xing2016/prepared/interactions.hdf', split)\n",
    "    dataset = dataset.drop(['interaction_type'], axis=1)\n",
    "    dataset.to_hdf('../../session-aware_RC_2020/code/data/xing/xing2016/prepared/interactions.hdf', key=split, mode='a')"
   ]
  },
  {
   "cell_type": "code",
   "execution_count": null,
   "id": "2e632e15",
   "metadata": {},
   "outputs": [],
   "source": [
    "for split in ['test', 'train', 'valid_test', 'valid_train']:\n",
    "    dataset = pd.read_hdf('../../session-aware_RC_2020/code/data/retailrocket/prepared/events.hdf', split)\n",
    "    dataset = dataset.drop(['event', 'transactionid', 'visitorid'], axis=1)\n",
    "    dataset.to_hdf('../../session-aware_RC_2020/code/data/retailrocket/prepared/events.hdf', key=split, mode='a')"
   ]
  },
  {
   "cell_type": "code",
   "execution_count": null,
   "id": "4a18b8f4",
   "metadata": {},
   "outputs": [],
   "source": [
    "# xing data for hgru4rec: convert csv to hdf\n",
    "for file in os.listdir('../../hgru4rec/data/xing/dense/last-session-out'):\n",
    "    key = file.split('.')[0]\n",
    "    dataset = pd.read_csv('../../hgru4rec/data/xing/dense/last-session-out' + '/' + str(file))\n",
    "    dataset.to_hdf('../../hgru4rec/data/xing/dense/last-session-out/sessions.hdf', key=key, mode='a')"
   ]
  }
 ],
 "metadata": {
  "kernelspec": {
   "display_name": "Python 3",
   "language": "python",
   "name": "python3"
  },
  "language_info": {
   "codemirror_mode": {
    "name": "ipython",
    "version": 3
   },
   "file_extension": ".py",
   "mimetype": "text/x-python",
   "name": "python",
   "nbconvert_exporter": "python",
   "pygments_lexer": "ipython3",
   "version": "3.8.6"
  }
 },
 "nbformat": 4,
 "nbformat_minor": 5
}
