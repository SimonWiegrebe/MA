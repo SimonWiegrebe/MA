{
 "cells": [
  {
   "cell_type": "code",
   "execution_count": null,
   "id": "d30c5cbb",
   "metadata": {},
   "outputs": [],
   "source": [
    "import datetime\n",
    "import matplotlib\n",
    "import numpy as np\n",
    "import pandas as pd\n",
    "import pyreadr\n",
    "\n",
    "import os"
   ]
  },
  {
   "cell_type": "code",
   "execution_count": null,
   "id": "25eeec0f",
   "metadata": {},
   "outputs": [],
   "source": [
    "USER_KEY = 'userID'\n",
    "ITEM_KEY = 'appID'\n",
    "TIME_KEY = 'timestamp'\n",
    "SESSION_KEY = 'sessionID'"
   ]
  },
  {
   "cell_type": "code",
   "execution_count": null,
   "id": "e616a615",
   "metadata": {},
   "outputs": [],
   "source": [
    "path = '../../data/'"
   ]
  },
  {
   "cell_type": "markdown",
   "id": "242aa9e9",
   "metadata": {},
   "source": [
    "### windows"
   ]
  },
  {
   "cell_type": "markdown",
   "id": "10067e81",
   "metadata": {},
   "source": [
    "##### all"
   ]
  },
  {
   "cell_type": "code",
   "execution_count": null,
   "id": "3f1654a3",
   "metadata": {},
   "outputs": [],
   "source": [
    "results = pd.DataFrame()\n",
    "for i in range(5):\n",
    "    df = pd.read_csv(path + 'app_all_' + str(i+1) + '.csv', sep=';')\n",
    "    df.drop(df.filter(regex='Unnamed'), axis=1, inplace=True) # drop 'Unnamed: 23' column containing only NaNs\n",
    "    df.rename(columns = lambda x : str(x)[:-2], inplace=True) # remove colon and whitespace from all column names\n",
    "    df.insert(0, 'window', i+1) # add column containing window number\n",
    "    df.insert(0, 'model', df['Metri'].apply(lambda x: x.split('-')[0])) # extract model name from 'Metrics' column\n",
    "    df.drop(['Metri'], axis=1, inplace=True)\n",
    "    results = pd.concat([results, df])"
   ]
  },
  {
   "cell_type": "code",
   "execution_count": null,
   "id": "2911bf9b",
   "metadata": {},
   "outputs": [],
   "source": [
    "mean_results = results.groupby('model').mean()"
   ]
  },
  {
   "cell_type": "code",
   "execution_count": null,
   "id": "cabd5edd",
   "metadata": {},
   "outputs": [],
   "source": [
    "mean_results.sort_values(by=['Popularity@20'])"
   ]
  },
  {
   "cell_type": "markdown",
   "id": "ba70890e",
   "metadata": {},
   "source": [
    "##### drop_first"
   ]
  },
  {
   "cell_type": "code",
   "execution_count": null,
   "id": "fa45699d",
   "metadata": {},
   "outputs": [],
   "source": [
    "results = pd.DataFrame()\n",
    "for i in range(5):\n",
    "    df = pd.read_csv(path + 'app_all_' + str(i+1) + '_dropfirst' + '.csv', sep=';')\n",
    "    df.drop(df.filter(regex='Unnamed'), axis=1, inplace=True) # drop 'Unnamed: 23' column containing only NaNs\n",
    "    df = df.rename(columns = lambda x : str(x)[:-2]) # remove colon and whitespace from all column names\n",
    "    df.insert(0, 'window', i+1) # add column containing window number\n",
    "    df.insert(0, 'model', df['Metri'].apply(lambda x: x.split('-')[0])) # extract model name from 'Metrics' column\n",
    "    df.drop(['Metri'], axis=1, inplace=True)\n",
    "    results = pd.concat([results, df])"
   ]
  },
  {
   "cell_type": "code",
   "execution_count": null,
   "id": "2d703932",
   "metadata": {},
   "outputs": [],
   "source": [
    "mean_results = results.groupby('model').mean()"
   ]
  },
  {
   "cell_type": "code",
   "execution_count": null,
   "id": "6524f9c6",
   "metadata": {},
   "outputs": [],
   "source": [
    "mean_results.sort_values(by=['Popularity@20'])"
   ]
  },
  {
   "cell_type": "markdown",
   "id": "51360660",
   "metadata": {},
   "source": [
    "### no windows"
   ]
  },
  {
   "cell_type": "code",
   "execution_count": null,
   "id": "08f7432c",
   "metadata": {},
   "outputs": [],
   "source": [
    "df = pd.read_csv(path + 'app_all' + '.csv', sep=';')\n",
    "df = df.rename(columns = lambda x : str(x)[:-2]) # remove colon and whitespace from all column names\n",
    "df.insert(0, 'model', df['Metri'].apply(lambda x: x.split('-')[0])) # extract model name from 'Metrics' column\n",
    "df.drop(['Metri'], axis=1, inplace=True)"
   ]
  },
  {
   "cell_type": "code",
   "execution_count": null,
   "id": "d3605b24",
   "metadata": {},
   "outputs": [],
   "source": [
    "df.sort_values('model')"
   ]
  }
 ],
 "metadata": {
  "kernelspec": {
   "display_name": "Python 3",
   "language": "python",
   "name": "python3"
  },
  "language_info": {
   "codemirror_mode": {
    "name": "ipython",
    "version": 3
   },
   "file_extension": ".py",
   "mimetype": "text/x-python",
   "name": "python",
   "nbconvert_exporter": "python",
   "pygments_lexer": "ipython3",
   "version": "3.8.6"
  }
 },
 "nbformat": 4,
 "nbformat_minor": 5
}
