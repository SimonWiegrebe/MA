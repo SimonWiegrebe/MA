{
 "cells": [
  {
   "cell_type": "code",
   "execution_count": 1,
   "id": "ceaf2616",
   "metadata": {},
   "outputs": [],
   "source": [
    "import datetime\n",
    "import matplotlib\n",
    "import numpy as np\n",
    "import pandas as pd\n",
    "import pyreadr\n",
    "import pickle\n",
    "\n",
    "import os"
   ]
  },
  {
   "cell_type": "code",
   "execution_count": 2,
   "id": "8f27e924",
   "metadata": {},
   "outputs": [],
   "source": [
    "os.chdir('C:\\\\Users\\\\Simon\\\\Desktop\\\\MA\\\\session-rec')"
   ]
  },
  {
   "cell_type": "code",
   "execution_count": 3,
   "id": "9dc0c285",
   "metadata": {},
   "outputs": [],
   "source": [
    "key = 'sr'"
   ]
  },
  {
   "cell_type": "code",
   "execution_count": 4,
   "id": "503b63b3",
   "metadata": {},
   "outputs": [],
   "source": [
    "datatypes = ['app-level', 'sequence-level']\n",
    "dataype = datatypes[0]\n",
    "windows = [1,2,3,4,5]"
   ]
  },
  {
   "cell_type": "code",
   "execution_count": null,
   "id": "99f74411",
   "metadata": {},
   "outputs": [],
   "source": [
    "for window in windows:\n",
    "    path_in = 'conf/tuning/' + str(datatype) + '/multiple/window_' + str(window)\n",
    "    file_in = "
   ]
  },
  {
   "cell_type": "code",
   "execution_count": null,
   "id": "53e6e2ff",
   "metadata": {},
   "outputs": [],
   "source": []
  }
 ],
 "metadata": {
  "kernelspec": {
   "display_name": "Python 3",
   "language": "python",
   "name": "python3"
  },
  "language_info": {
   "codemirror_mode": {
    "name": "ipython",
    "version": 3
   },
   "file_extension": ".py",
   "mimetype": "text/x-python",
   "name": "python",
   "nbconvert_exporter": "python",
   "pygments_lexer": "ipython3",
   "version": "3.6.8"
  }
 },
 "nbformat": 4,
 "nbformat_minor": 5
}
